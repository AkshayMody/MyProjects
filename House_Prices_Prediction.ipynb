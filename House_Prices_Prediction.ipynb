{
 "cells": [
  {
   "cell_type": "code",
   "execution_count": 1,
   "metadata": {},
   "outputs": [],
   "source": [
    "# We first import all the necessary libraries required\n",
    "import numpy as np\n",
    "import pandas as pd\n",
    "import matplotlib.pyplot as plt\n",
    "#import seaborn as sns\n",
    "import statsmodels.api as sm\n",
    "from sklearn.model_selection import train_test_split\n",
    "from sklearn.metrics import mean_squared_error, r2_score\n",
    "##sns.set()\n",
    "# and of course the actual regression (machine learning) module\n",
    "from sklearn.linear_model import LinearRegression\n",
    "from sklearn.decomposition import PCA\n",
    "from sklearn.preprocessing import StandardScaler, LabelEncoder\n",
    "from sklearn.ensemble import RandomForestRegressor\n",
    "from sklearn import linear_model"
   ]
  },
  {
   "cell_type": "code",
   "execution_count": 2,
   "metadata": {},
   "outputs": [
    {
     "name": "stdout",
     "output_type": "stream",
     "text": [
      "                       date     price  bedrooms  bathrooms  sqft_living  \\\n",
      "id                                                                        \n",
      "7129300520  20141013T000000  221900.0         3       1.00         1180   \n",
      "6414100192  20141209T000000  538000.0         3       2.25         2570   \n",
      "5631500400  20150225T000000  180000.0         2       1.00          770   \n",
      "2487200875  20141209T000000  604000.0         4       3.00         1960   \n",
      "1954400510  20150218T000000  510000.0         3       2.00         1680   \n",
      "\n",
      "            sqft_lot  floors  waterfront  view  condition  grade  sqft_above  \\\n",
      "id                                                                             \n",
      "7129300520      5650     1.0           0     0          3      7        1180   \n",
      "6414100192      7242     2.0           0     0          3      7        2170   \n",
      "5631500400     10000     1.0           0     0          3      6         770   \n",
      "2487200875      5000     1.0           0     0          5      7        1050   \n",
      "1954400510      8080     1.0           0     0          3      8        1680   \n",
      "\n",
      "            sqft_basement  yr_built  yr_renovated  zipcode      lat     long  \\\n",
      "id                                                                             \n",
      "7129300520              0      1955             0    98178  47.5112 -122.257   \n",
      "6414100192            400      1951          1991    98125  47.7210 -122.319   \n",
      "5631500400              0      1933             0    98028  47.7379 -122.233   \n",
      "2487200875            910      1965             0    98136  47.5208 -122.393   \n",
      "1954400510              0      1987             0    98074  47.6168 -122.045   \n",
      "\n",
      "            sqft_living15  sqft_lot15  \n",
      "id                                     \n",
      "7129300520           1340        5650  \n",
      "6414100192           1690        7639  \n",
      "5631500400           2720        8062  \n",
      "2487200875           1360        5000  \n",
      "1954400510           1800        7503  \n",
      "(21613, 20)\n",
      "              price      bedrooms     bathrooms   sqft_living      sqft_lot  \\\n",
      "count  2.161300e+04  21613.000000  21613.000000  21613.000000  2.161300e+04   \n",
      "mean   5.400881e+05      3.370842      2.114757   2079.899736  1.510697e+04   \n",
      "std    3.671272e+05      0.930062      0.770163    918.440897  4.142051e+04   \n",
      "min    7.500000e+04      0.000000      0.000000    290.000000  5.200000e+02   \n",
      "25%    3.219500e+05      3.000000      1.750000   1427.000000  5.040000e+03   \n",
      "50%    4.500000e+05      3.000000      2.250000   1910.000000  7.618000e+03   \n",
      "75%    6.450000e+05      4.000000      2.500000   2550.000000  1.068800e+04   \n",
      "max    7.700000e+06     33.000000      8.000000  13540.000000  1.651359e+06   \n",
      "\n",
      "             floors    waterfront          view     condition         grade  \\\n",
      "count  21613.000000  21613.000000  21613.000000  21613.000000  21613.000000   \n",
      "mean       1.494309      0.007542      0.234303      3.409430      7.656873   \n",
      "std        0.539989      0.086517      0.766318      0.650743      1.175459   \n",
      "min        1.000000      0.000000      0.000000      1.000000      1.000000   \n",
      "25%        1.000000      0.000000      0.000000      3.000000      7.000000   \n",
      "50%        1.500000      0.000000      0.000000      3.000000      7.000000   \n",
      "75%        2.000000      0.000000      0.000000      4.000000      8.000000   \n",
      "max        3.500000      1.000000      4.000000      5.000000     13.000000   \n",
      "\n",
      "         sqft_above  sqft_basement      yr_built  yr_renovated       zipcode  \\\n",
      "count  21613.000000   21613.000000  21613.000000  21613.000000  21613.000000   \n",
      "mean    1788.390691     291.509045   1971.005136     84.402258  98077.939805   \n",
      "std      828.090978     442.575043     29.373411    401.679240     53.505026   \n",
      "min      290.000000       0.000000   1900.000000      0.000000  98001.000000   \n",
      "25%     1190.000000       0.000000   1951.000000      0.000000  98033.000000   \n",
      "50%     1560.000000       0.000000   1975.000000      0.000000  98065.000000   \n",
      "75%     2210.000000     560.000000   1997.000000      0.000000  98118.000000   \n",
      "max     9410.000000    4820.000000   2015.000000   2015.000000  98199.000000   \n",
      "\n",
      "                lat          long  sqft_living15     sqft_lot15  \n",
      "count  21613.000000  21613.000000   21613.000000   21613.000000  \n",
      "mean      47.560053   -122.213896    1986.552492   12768.455652  \n",
      "std        0.138564      0.140828     685.391304   27304.179631  \n",
      "min       47.155900   -122.519000     399.000000     651.000000  \n",
      "25%       47.471000   -122.328000    1490.000000    5100.000000  \n",
      "50%       47.571800   -122.230000    1840.000000    7620.000000  \n",
      "75%       47.678000   -122.125000    2360.000000   10083.000000  \n",
      "max       47.777600   -121.315000    6210.000000  871200.000000  \n",
      "<class 'pandas.core.frame.DataFrame'>\n",
      "Index: 21613 entries, 7129300520 to 1523300157\n",
      "Data columns (total 20 columns):\n",
      " #   Column         Non-Null Count  Dtype  \n",
      "---  ------         --------------  -----  \n",
      " 0   date           21613 non-null  object \n",
      " 1   price          21613 non-null  float64\n",
      " 2   bedrooms       21613 non-null  int64  \n",
      " 3   bathrooms      21613 non-null  float64\n",
      " 4   sqft_living    21613 non-null  int64  \n",
      " 5   sqft_lot       21613 non-null  int64  \n",
      " 6   floors         21613 non-null  float64\n",
      " 7   waterfront     21613 non-null  int64  \n",
      " 8   view           21613 non-null  int64  \n",
      " 9   condition      21613 non-null  int64  \n",
      " 10  grade          21613 non-null  int64  \n",
      " 11  sqft_above     21613 non-null  int64  \n",
      " 12  sqft_basement  21613 non-null  int64  \n",
      " 13  yr_built       21613 non-null  int64  \n",
      " 14  yr_renovated   21613 non-null  int64  \n",
      " 15  zipcode        21613 non-null  int64  \n",
      " 16  lat            21613 non-null  float64\n",
      " 17  long           21613 non-null  float64\n",
      " 18  sqft_living15  21613 non-null  int64  \n",
      " 19  sqft_lot15     21613 non-null  int64  \n",
      "dtypes: float64(5), int64(14), object(1)\n",
      "memory usage: 3.5+ MB\n",
      "None\n"
     ]
    }
   ],
   "source": [
    "# Load the data\n",
    "data = pd.read_csv('Data.csv', index_col=0)\n",
    "\n",
    "# Explore the data\n",
    "print(data.head())\n",
    "print(data.shape)\n",
    "print(data.describe())\n",
    "print(data.info())"
   ]
  },
  {
   "cell_type": "code",
   "execution_count": 3,
   "metadata": {},
   "outputs": [
    {
     "name": "stdout",
     "output_type": "stream",
     "text": [
      "date             0\n",
      "price            0\n",
      "bedrooms         0\n",
      "bathrooms        0\n",
      "sqft_living      0\n",
      "sqft_lot         0\n",
      "floors           0\n",
      "waterfront       0\n",
      "view             0\n",
      "condition        0\n",
      "grade            0\n",
      "sqft_above       0\n",
      "sqft_basement    0\n",
      "yr_built         0\n",
      "yr_renovated     0\n",
      "zipcode          0\n",
      "lat              0\n",
      "long             0\n",
      "sqft_living15    0\n",
      "sqft_lot15       0\n",
      "dtype: int64\n"
     ]
    }
   ],
   "source": [
    "# Check for missing values\n",
    "print(data.isnull().sum())"
   ]
  },
  {
   "cell_type": "markdown",
   "metadata": {},
   "source": [
    "There were no missing values in our data."
   ]
  },
  {
   "cell_type": "code",
   "execution_count": 4,
   "metadata": {},
   "outputs": [],
   "source": [
    "# Separate the categorical and numerical columns for further analysis \n",
    "categorical_cols = data.select_dtypes(include=['object'])  \n",
    "numerical_cols = data.select_dtypes(include=['int', 'float'])"
   ]
  },
  {
   "cell_type": "code",
   "execution_count": 5,
   "metadata": {},
   "outputs": [
    {
     "data": {
      "text/plain": [
       "price            1.000000\n",
       "bedrooms         0.308350\n",
       "bathrooms        0.525138\n",
       "sqft_living      0.702035\n",
       "sqft_lot         0.089661\n",
       "floors           0.256794\n",
       "waterfront       0.266369\n",
       "view             0.397293\n",
       "condition        0.036362\n",
       "grade            0.667434\n",
       "sqft_above       0.605567\n",
       "sqft_basement    0.323816\n",
       "yr_built         0.054012\n",
       "yr_renovated     0.126434\n",
       "zipcode         -0.053203\n",
       "lat              0.307003\n",
       "long             0.021626\n",
       "sqft_living15    0.585379\n",
       "sqft_lot15       0.082447\n",
       "Name: price, dtype: float64"
      ]
     },
     "execution_count": 5,
     "metadata": {},
     "output_type": "execute_result"
    }
   ],
   "source": [
    "numerical_cols.corr()[\"price\"]"
   ]
  },
  {
   "cell_type": "code",
   "execution_count": 7,
   "metadata": {},
   "outputs": [],
   "source": [
    "# Assuming 'target_column' is the name of your target variable\n",
    "X = numerical_cols.drop(['price','floors','waterfront',\"view\",'grade'], axis=1)\n",
    "y = numerical_cols['price']\n",
    "\n",
    "# Split the data into training and testing sets (80% train, 20% test)\n",
    "x_train, x_test, y_train, y_test = train_test_split(X, y, test_size=0.2, random_state=42)"
   ]
  },
  {
   "cell_type": "markdown",
   "metadata": {},
   "source": [
    "Next we apply feature scaling to the independent variables. This helps in reducing the variability between different independent variables.\n",
    "We use standarization where the values are centered around the mean with the standard deviation value of 1. "
   ]
  },
  {
   "cell_type": "code",
   "execution_count": 9,
   "metadata": {},
   "outputs": [],
   "source": [
    "# Initialize the StandardScaler\n",
    "scaler = StandardScaler()\n",
    "\n",
    "# Fit and transform the scaler on the training data\n",
    "X_train_scaled = scaler.fit_transform(x_train)\n",
    "\n",
    "# Transform the test data using the trained scaler\n",
    "X_test_scaled = scaler.transform(x_test)"
   ]
  },
  {
   "cell_type": "markdown",
   "metadata": {},
   "source": [
    "We first try multiple linear regression and check it effeiciency."
   ]
  },
  {
   "cell_type": "code",
   "execution_count": 10,
   "metadata": {},
   "outputs": [
    {
     "name": "stdout",
     "output_type": "stream",
     "text": [
      "                            OLS Regression Results                            \n",
      "==============================================================================\n",
      "Dep. Variable:                  price   R-squared:                       0.631\n",
      "Model:                            OLS   Adj. R-squared:                  0.631\n",
      "Method:                 Least Squares   F-statistic:                     2272.\n",
      "Date:                Fri, 28 Jul 2023   Prob (F-statistic):               0.00\n",
      "Time:                        12:31:16   Log-Likelihood:            -2.3719e+05\n",
      "No. Observations:               17290   AIC:                         4.744e+05\n",
      "Df Residuals:                   17276   BIC:                         4.745e+05\n",
      "Df Model:                          13                                         \n",
      "Covariance Type:            nonrobust                                         \n",
      "==============================================================================\n",
      "                 coef    std err          t      P>|t|      [0.025      0.975]\n",
      "------------------------------------------------------------------------------\n",
      "const       5.378e+05   1670.575    321.906      0.000    5.34e+05    5.41e+05\n",
      "x1         -5.331e+04   2113.061    -25.230      0.000   -5.75e+04   -4.92e+04\n",
      "x2          5.154e+04   2932.881     17.572      0.000    4.58e+04    5.73e+04\n",
      "x3          1.145e+05   1777.468     64.408      0.000    1.11e+05    1.18e+05\n",
      "x4          6162.0868   2485.137      2.480      0.013    1290.967     1.1e+04\n",
      "x5          1.911e+04   1864.528     10.252      0.000    1.55e+04    2.28e+04\n",
      "x6          1.073e+05   1814.384     59.133      0.000    1.04e+05    1.11e+05\n",
      "x7          3.583e+04   1711.336     20.935      0.000    3.25e+04    3.92e+04\n",
      "x8         -6.028e+04   2461.544    -24.489      0.000   -6.51e+04   -5.55e+04\n",
      "x9          1.684e+04   1782.964      9.443      0.000    1.33e+04    2.03e+04\n",
      "x10        -2.527e+04   2133.959    -11.841      0.000   -2.95e+04   -2.11e+04\n",
      "x11         8.794e+04   1775.473     49.533      0.000    8.45e+04    9.14e+04\n",
      "x12         -4.88e+04   2222.007    -21.961      0.000   -5.32e+04   -4.44e+04\n",
      "x13         5.762e+04   2695.978     21.374      0.000    5.23e+04    6.29e+04\n",
      "x14        -9855.4183   2491.461     -3.956      0.000   -1.47e+04   -4971.902\n",
      "==============================================================================\n",
      "Omnibus:                    14203.934   Durbin-Watson:                   2.011\n",
      "Prob(Omnibus):                  0.000   Jarque-Bera (JB):          1047639.795\n",
      "Skew:                           3.472   Prob(JB):                         0.00\n",
      "Kurtosis:                      40.497   Cond. No.                     2.81e+15\n",
      "==============================================================================\n",
      "\n",
      "Notes:\n",
      "[1] Standard Errors assume that the covariance matrix of the errors is correctly specified.\n",
      "[2] The smallest eigenvalue is 9.33e-27. This might indicate that there are\n",
      "strong multicollinearity problems or that the design matrix is singular.\n"
     ]
    }
   ],
   "source": [
    "# Add a constant column for the intercept term in the linear regression model\n",
    "X_train_with_intercept = sm.add_constant(X_train_scaled)\n",
    "\n",
    "# Fit the OLS model on the training data\n",
    "ols_model = sm.OLS(y_train, X_train_with_intercept)\n",
    "ols_result = ols_model.fit()\n",
    "\n",
    "# Print the summary of the OLS regression results\n",
    "print(ols_result.summary())\n"
   ]
  },
  {
   "cell_type": "markdown",
   "metadata": {},
   "source": []
  },
  {
   "cell_type": "markdown",
   "metadata": {},
   "source": [
    "The above table shows the Adj. R-squared: 0.631. This shows the level of significance or how gooddness of fit of the model is okay but can be much better. Some variables have a p-value greater than 0.05. The p-values of the variables is lower than 0.05 which shows the variables are significant.  "
   ]
  },
  {
   "cell_type": "code",
   "execution_count": 12,
   "metadata": {},
   "outputs": [
    {
     "name": "stdout",
     "output_type": "stream",
     "text": [
      "Mean Squared Error (MSE): 56601838487.76647\n",
      "R-squared score (R2): 0.6255915501615275\n"
     ]
    }
   ],
   "source": [
    "# Initialize the LinearRegression model\n",
    "mlr_model = LinearRegression()\n",
    "\n",
    "# Train the model on the filtered and scaled training data\n",
    "mlr_model.fit(X_train_scaled, y_train)\n",
    "\n",
    "# Make predictions on the filtered and scaled test data\n",
    "y_pred = mlr_model.predict(X_train_scaled)\n",
    "\n",
    "# Calculate the Mean Squared Error (MSE)\n",
    "mse = mean_squared_error(y_test, y_pred)\n",
    "\n",
    "# Calculate the R-squared score\n",
    "r2 = r2_score(y_test, y_pred)\n",
    "\n",
    "# Print the evaluation metrics\n",
    "print(\"Mean Squared Error (MSE):\", mse)\n",
    "print(\"R-squared score (R2):\", r2)\n"
   ]
  },
  {
   "cell_type": "code",
   "execution_count": 13,
   "metadata": {},
   "outputs": [
    {
     "name": "stdout",
     "output_type": "stream",
     "text": [
      "               Actual    Predicted\n",
      "id                                \n",
      "2591820310   365000.0   456658.433\n",
      "7974200820   865000.0   824767.161\n",
      "7701450110  1038000.0  1062480.099\n",
      "9522300010  1490000.0  1538664.434\n",
      "9510861140   711000.0   695585.251\n",
      "...               ...          ...\n",
      "6163900333   338000.0   473991.771\n",
      "3528960020   673000.0   679941.608\n",
      "1687000220   285000.0   471631.324\n",
      "4141400030   605000.0   584743.908\n",
      "1822500160   356500.0   504154.277\n",
      "\n",
      "[4323 rows x 2 columns]\n"
     ]
    }
   ],
   "source": [
    "reg = LinearRegression()\n",
    "reg.fit(x_train,y_train)\n",
    "y_pred = reg.predict(x_test)\n",
    "rel = pd.DataFrame({'Actual': y_test, 'Predicted': y_pred})\n",
    "print(rel.round(3))"
   ]
  },
  {
   "cell_type": "markdown",
   "metadata": {},
   "source": [
    "Since the r-squared is low, we try another ml techique. We build a decision tree. Decision trees are simple tree-like structures that break down data into smaller and smaller subsets by making decisions based on feature values. Each leaf node in the tree represents a prediction."
   ]
  },
  {
   "cell_type": "code",
   "execution_count": 15,
   "metadata": {},
   "outputs": [],
   "source": [
    "#Importing Decision Tree Regressor library \n",
    "from sklearn.tree import DecisionTreeRegressor"
   ]
  },
  {
   "cell_type": "code",
   "execution_count": 16,
   "metadata": {},
   "outputs": [],
   "source": [
    "# Create the decision tree regressor\n",
    "regressor = DecisionTreeRegressor()\n",
    "\n",
    "# Train the model on the training data\n",
    "regressor.fit(x_train, y_train)\n",
    "\n",
    "# Make predictions on the test set\n",
    "y_pred = regressor.predict(x_test)"
   ]
  },
  {
   "cell_type": "code",
   "execution_count": 17,
   "metadata": {},
   "outputs": [
    {
     "name": "stdout",
     "output_type": "stream",
     "text": [
      "Mean Squared Error: 53067103085.51625\n",
      "R-squared: 0.6489730310092161\n"
     ]
    }
   ],
   "source": [
    "# Calculate Mean Squared Error and R-squared\n",
    "mse = mean_squared_error(y_test, y_pred)\n",
    "r2 = r2_score(y_test, y_pred)\n",
    "\n",
    "# Print the evaluation metrics\n",
    "print(f\"Mean Squared Error: {mse}\")\n",
    "print(f\"R-squared: {r2}\")"
   ]
  },
  {
   "cell_type": "markdown",
   "metadata": {},
   "source": [
    "R-square under decision tree is better than Linear Regression. However, it could still be improved."
   ]
  },
  {
   "cell_type": "markdown",
   "metadata": {},
   "source": [
    "We try XGBOOST."
   ]
  },
  {
   "cell_type": "code",
   "execution_count": 18,
   "metadata": {},
   "outputs": [
    {
     "name": "stdout",
     "output_type": "stream",
     "text": [
      "Mean Squared Error: 27232927230.859016\n",
      "R-squared: 0.819860302395061\n"
     ]
    }
   ],
   "source": [
    "#Importing the necessary libraries\n",
    "import xgboost as xgb\n",
    "# Create the XGBoost regressor\n",
    "regressor = xgb.XGBRegressor(objective='reg:squarederror', random_state=42)\n",
    "\n",
    "# Train the model on the training data\n",
    "regressor.fit(x_train, y_train)\n",
    "y_pred = regressor.predict(x_test)\n",
    "mse = mean_squared_error(y_test, y_pred)\n",
    "r2 = r2_score(y_test, y_pred)\n",
    "\n",
    "print(f\"Mean Squared Error: {mse}\")\n",
    "print(f\"R-squared: {r2}\")"
   ]
  },
  {
   "cell_type": "markdown",
   "metadata": {},
   "source": [
    "We tune the parameters"
   ]
  },
  {
   "cell_type": "code",
   "execution_count": 19,
   "metadata": {},
   "outputs": [
    {
     "name": "stdout",
     "output_type": "stream",
     "text": [
      "Best Hyperparameters: {'learning_rate': 0.1, 'max_depth': 5, 'n_estimators': 300, 'subsample': 0.9}\n",
      "Mean Squared Error: 25304526628.481472\n",
      "R-squared: 0.8326162392955877\n"
     ]
    }
   ],
   "source": [
    "from sklearn.model_selection import GridSearchCV\n",
    "regressor = xgb.XGBRegressor(objective='reg:squarederror', random_state=42)\n",
    "param_grid = {\n",
    "    'n_estimators': [100, 200, 300],\n",
    "    'learning_rate': [0.01, 0.1, 0.3],\n",
    "    'max_depth': [3, 4, 5],\n",
    "    'subsample': [0.8, 0.9],\n",
    "}\n",
    "grid_search = GridSearchCV(regressor, param_grid, cv=5, scoring='neg_mean_squared_error')\n",
    "grid_search.fit(x_train, y_train)\n",
    "best_params = grid_search.best_params_\n",
    "best_model = grid_search.best_estimator_\n",
    "y_pred = best_model.predict(x_test)\n",
    "mse = mean_squared_error(y_test, y_pred)\n",
    "r2 = r2_score(y_test, y_pred)\n",
    "\n",
    "print(\"Best Hyperparameters:\", best_params)\n",
    "print(f\"Mean Squared Error: {mse}\")\n",
    "print(f\"R-squared: {r2}\")\n",
    "\n",
    "\n"
   ]
  }
 ],
 "metadata": {
  "kernelspec": {
   "display_name": "Python 3",
   "language": "python",
   "name": "python3"
  },
  "language_info": {
   "codemirror_mode": {
    "name": "ipython",
    "version": 3
   },
   "file_extension": ".py",
   "mimetype": "text/x-python",
   "name": "python",
   "nbconvert_exporter": "python",
   "pygments_lexer": "ipython3",
   "version": "3.11.3"
  },
  "orig_nbformat": 4
 },
 "nbformat": 4,
 "nbformat_minor": 2
}
